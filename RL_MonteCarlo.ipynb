{
  "nbformat": 4,
  "nbformat_minor": 0,
  "metadata": {
    "colab": {
      "name": "RL_MonteCarlo.ipynb",
      "provenance": [],
      "collapsed_sections": [],
      "authorship_tag": "ABX9TyMIE00ssaBsnIikPM7k+5JG",
      "include_colab_link": true
    },
    "kernelspec": {
      "name": "python3",
      "display_name": "Python 3"
    },
    "language_info": {
      "name": "python"
    }
  },
  "cells": [
    {
      "cell_type": "markdown",
      "metadata": {
        "id": "view-in-github",
        "colab_type": "text"
      },
      "source": [
        "<a href=\"https://colab.research.google.com/github/stgkrt/ReinforcementLearning/blob/main/RL_MonteCarlo.ipynb\" target=\"_parent\"><img src=\"https://colab.research.google.com/assets/colab-badge.svg\" alt=\"Open In Colab\"/></a>"
      ]
    },
    {
      "cell_type": "markdown",
      "metadata": {
        "id": "jTHKynMuyUlq"
      },
      "source": [
        "# モンテカルロ法\n"
      ]
    },
    {
      "cell_type": "markdown",
      "metadata": {
        "id": "SRmPKJHGyYVZ"
      },
      "source": [
        "〇モンテカルロ法\n",
        "とりあえず適当に動いてみる。その時の結果から報酬を経験として蓄積していく。\n",
        "\n",
        "*   ゲームをやってみた結果、もらった報酬をもとに価値計算\n",
        "*   今回の価値はQ(s,a)で表される\n",
        "\n",
        "> Q(s,a)は、「状態sで行動aをしたときに、ゲーム終了までに得られる報酬」\n",
        "$$ G_t = r_{t+1} + r_{t+2} + r_{t+2} + \\dots + r_{T} $$\n",
        "\n",
        "> 未来でもらえる報酬は不確かな値なので、”割引率”$\\gamma$ をかける\n",
        "$$ G_t = r_{t+1} + \\gamma r_{t+2} + \\gamma^2 r_{t+2} + \\dots + \\gamma^{T-t-1} r_{T} $$\n",
        "\n",
        "> これを\"割引現在価値\"という\n",
        "$$ Q(s,a) ← Q(s,a) + \\alpha (G_t - Q(s,a))  $$\n",
        "状態sから、その時点での報酬をQ(s,a)として予測する。これに対して、ゲーム全体で得られた報酬をGtとの差を考える。\n",
        "これに学習率αをかけたものとして、次のQ(s,a)として学習する。\n",
        "αは0~1の値をとるハイパーパラメータ。Qの値が変化しなくなると学習終了。\n",
        "\n",
        "モンテカルロ法では、状態遷移の確率を事前に設定する必要がない。\n",
        "\n",
        "（実際に遷移確率はわからないことも多い）\n"
      ]
    },
    {
      "cell_type": "code",
      "metadata": {
        "id": "p_UMuV3pJ2AV"
      },
      "source": [
        "import gym\n",
        "import pandas as pd\n",
        "import numpy as np\n",
        "import matplotlib.pyplot as plt"
      ],
      "execution_count": null,
      "outputs": []
    },
    {
      "cell_type": "code",
      "metadata": {
        "id": "4ibcTMQbCCDi",
        "colab": {
          "base_uri": "https://localhost:8080/"
        },
        "outputId": "3e9882fe-8891-4482-9b78-9683db9244d7"
      },
      "source": [
        "env = gym.make(\"FrozenLake-v0\",is_slippery=False)#is_flippery=Falseで意図しない方向にスリップすることをなくす＝意図した方向に移動できる\n",
        "env.render()"
      ],
      "execution_count": null,
      "outputs": [
        {
          "output_type": "stream",
          "name": "stdout",
          "text": [
            "\n",
            "\u001b[41mS\u001b[0mFFF\n",
            "FHFH\n",
            "FFFH\n",
            "HFFG\n"
          ]
        }
      ]
    },
    {
      "cell_type": "code",
      "metadata": {
        "id": "M8rE27IXQwc1"
      },
      "source": [
        "class MonteCarlo:\n",
        "    def __init__(self, env):\n",
        "        self.env = env\n",
        "        self.Q = {}\n",
        "        self.initialize()\n",
        "        self.reward_log = []\n",
        "    \n",
        "    def initialize(self):\n",
        "        for s in range(self.env.nS):\n",
        "            self.Q[s] = [0] * self.env.nA#すべての状態に対する報酬を0として初期化する\n",
        "        self.env.reset()\n",
        "\n",
        "    def policy(self, s, epsilon = 0.1):\n",
        "        if np.random.random() < epsilon:\n",
        "            # print(\"explore---------\")\n",
        "            return np.random.randint(self.env.nA)\n",
        "        else:\n",
        "            if sum(self.Q[s]) == 0:\n",
        "                return np.random.randint(self.env.nA)\n",
        "            else:\n",
        "                return np.argmax(self.Q[s])\n",
        "\n",
        "    def learn(self, episode_count=1000, gamma=0.9, alpha=0.8):\n",
        "        for e in range(episode_count):\n",
        "            env.reset()\n",
        "            done = False\n",
        "            experience_log = []   \n",
        "            s = 0 \n",
        "            while not done:\n",
        "                # a = np.random.randint(self.env.nA)\n",
        "                a = self.policy(s)\n",
        "                next_s, reward, done , _ = self.env.step(a)\n",
        "                experience_log.append({'state':s, 'action':a, 'reward':reward})\n",
        "                s = next_s\n",
        "            else:\n",
        "                # print(\"episode_num:\",e)\n",
        "                # self.env.render()\n",
        "                self.reward_log.append(reward)\n",
        "            \n",
        "            for t , experience in enumerate(experience_log):\n",
        "                G = 0\n",
        "                i = 0\n",
        "                for j in range(t, len(experience_log)):\n",
        "                    G += (gamma**i)*experience_log[j]['reward']\n",
        "                    i += 1\n",
        "                s = experience['state']\n",
        "                a = experience['action']\n",
        "                self.Q[s][a] += alpha*(G - self.Q[s][a])\n",
        "        # return self.Q\n",
        "        return self.reward_log\n",
        "    \n",
        "    def show_rewards(self, interval = 50):\n",
        "        average_rewards = {}\n",
        "        for e in range(0, len(self.reward_log), interval):\n",
        "            average_rewards[e] = np.mean(self.reward_log[e:e+50])\n",
        "        return pd.Series(average_rewards)"
      ],
      "execution_count": null,
      "outputs": []
    },
    {
      "cell_type": "code",
      "metadata": {
        "id": "DMMHHQviQDgR"
      },
      "source": [
        "mc = MonteCarlo(env)\n",
        "test = mc.learn()"
      ],
      "execution_count": null,
      "outputs": []
    },
    {
      "cell_type": "code",
      "metadata": {
        "colab": {
          "base_uri": "https://localhost:8080/",
          "height": 282
        },
        "id": "CVXG8--HczIl",
        "outputId": "6bb9222d-24f2-407b-b66a-c43a2b235781"
      },
      "source": [
        "mc.show_rewards().plot()"
      ],
      "execution_count": null,
      "outputs": [
        {
          "output_type": "execute_result",
          "data": {
            "text/plain": [
              "<matplotlib.axes._subplots.AxesSubplot at 0x7f1b79d7a390>"
            ]
          },
          "metadata": {},
          "execution_count": 49
        },
        {
          "output_type": "display_data",
          "data": {
            "image/png": "[encoded data removed]",
            "text/plain": [
              "<Figure size 432x288 with 1 Axes>"
            ]
          },
          "metadata": {
            "needs_background": "light"
          }
        }
      ]
    },
    {
      "cell_type": "markdown",
      "metadata": {
        "id": "X5v1MnSSQAgN"
      },
      "source": [
        "動的計画法"
      ]
    },
    {
      "cell_type": "code",
      "metadata": {
        "id": "LI_2qlZwJlHi"
      },
      "source": [
        "class Planner:\n",
        "    def __init__(self,env):\n",
        "        self.env = env\n",
        "\n",
        "    def s_to_loc(self,s):\n",
        "        row = s // self.env.ncol\n",
        "        col = s % self.env.ncol\n",
        "        return row,col\n",
        "    \n",
        "    def reward(self,s):\n",
        "        row, col = self.s_to_loc(s)\n",
        "        if self.env.desc[row][col] == b'H':\n",
        "            return -1\n",
        "        elif self.env.desc[row][col] == b'G':\n",
        "            return 1\n",
        "        else:\n",
        "            return 0\n",
        "    \n",
        "    def plan(self, gamma=0.9, threshold=0.0001):\n",
        "        self.env.reset()\n",
        "        V = {}\n",
        "        for s in range(self.env.nS):\n",
        "            V[s] = self.reward(s)\n",
        "        while True:\n",
        "            delta = 0\n",
        "            for s in V:\n",
        "                row, col = self.s_to_loc(s)\n",
        "                if self.env.desc[row][col] in [b'H', b'G']:\n",
        "                    continue\n",
        "                expected_rewards = []\n",
        "                for a in range(self.env.nA):\n",
        "                    r = 0\n",
        "                    for prob, next_s, _, _ in self.env.P[s][a]:\n",
        "                        r += gamma * prob * V[next_s]\n",
        "                    expected_rewards.append(r)\n",
        "                max_reward = max(expected_rewards)\n",
        "                new_V = self.reward(s) + max_reward\n",
        "\n",
        "                # | V_i+1  - V_i |\n",
        "                delta = max(delta, abs(new_V - V[s]))\n",
        "                V[s] = new_V\n",
        "\n",
        "            if delta < threshold:\n",
        "                break\n",
        "        \n",
        "        return self.dict_to_grid(V)\n",
        "    \n",
        "    def dict_to_grid(self, V):\n",
        "        grid = []\n",
        "        for i in range(self.env.nrow):\n",
        "            row = [0] * self.env.ncol\n",
        "            grid.append(row)\n",
        "        for s in V:\n",
        "            row, col = self.s_to_loc(s)\n",
        "            grid[row][col] = V[s]\n",
        "        return pd.DataFrame(grid)"
      ],
      "execution_count": null,
      "outputs": []
    },
    {
      "cell_type": "code",
      "metadata": {
        "colab": {
          "base_uri": "https://localhost:8080/",
          "height": 173
        },
        "id": "WoWPmvQM6m5I",
        "outputId": "b08f9342-7048-4c9d-8d0a-b05580567845"
      },
      "source": [
        "pl = Planner(env)\n",
        "pl.plan()"
      ],
      "execution_count": null,
      "outputs": [
        {
          "output_type": "execute_result",
          "data": {
            "text/html": [
              "<div>\n",
              "<style scoped>\n",
              "    .dataframe tbody tr th:only-of-type {\n",
              "        vertical-align: middle;\n",
              "    }\n",
              "\n",
              "    .dataframe tbody tr th {\n",
              "        vertical-align: top;\n",
              "    }\n",
              "\n",
              "    .dataframe thead th {\n",
              "        text-align: right;\n",
              "    }\n",
              "</style>\n",
              "<table border=\"1\" class=\"dataframe\">\n",
              "  <thead>\n",
              "    <tr style=\"text-align: right;\">\n",
              "      <th></th>\n",
              "      <th>0</th>\n",
              "      <th>1</th>\n",
              "      <th>2</th>\n",
              "      <th>3</th>\n",
              "    </tr>\n",
              "  </thead>\n",
              "  <tbody>\n",
              "    <tr>\n",
              "      <th>0</th>\n",
              "      <td>0.045684</td>\n",
              "      <td>0.026631</td>\n",
              "      <td>0.016628</td>\n",
              "      <td>0.01234</td>\n",
              "    </tr>\n",
              "    <tr>\n",
              "      <th>1</th>\n",
              "      <td>0.061139</td>\n",
              "      <td>-1.000000</td>\n",
              "      <td>-0.252228</td>\n",
              "      <td>-1.00000</td>\n",
              "    </tr>\n",
              "    <tr>\n",
              "      <th>2</th>\n",
              "      <td>0.097082</td>\n",
              "      <td>0.165458</td>\n",
              "      <td>0.142632</td>\n",
              "      <td>-1.00000</td>\n",
              "    </tr>\n",
              "    <tr>\n",
              "      <th>3</th>\n",
              "      <td>-1.000000</td>\n",
              "      <td>0.311850</td>\n",
              "      <td>0.562218</td>\n",
              "      <td>1.00000</td>\n",
              "    </tr>\n",
              "  </tbody>\n",
              "</table>\n",
              "</div>"
            ],
            "text/plain": [
              "          0         1         2        3\n",
              "0  0.045684  0.026631  0.016628  0.01234\n",
              "1  0.061139 -1.000000 -0.252228 -1.00000\n",
              "2  0.097082  0.165458  0.142632 -1.00000\n",
              "3 -1.000000  0.311850  0.562218  1.00000"
            ]
          },
          "metadata": {},
          "execution_count": 28
        }
      ]
    },
    {
      "cell_type": "code",
      "metadata": {
        "id": "Gd3-vR9c7UGk"
      },
      "source": [
        ""
      ],
      "execution_count": null,
      "outputs": []
    }
  ]
}