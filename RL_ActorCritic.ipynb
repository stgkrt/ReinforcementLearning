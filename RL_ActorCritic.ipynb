{
  "nbformat": 4,
  "nbformat_minor": 0,
  "metadata": {
    "colab": {
      "name": "RL_ActorCritic.ipynb",
      "provenance": [],
      "authorship_tag": "ABX9TyPg0RpVa7Bz9+CUUkeYFh3Y"
    },
    "kernelspec": {
      "name": "python3",
      "display_name": "Python 3"
    },
    "language_info": {
      "name": "python"
    }
  },
  "cells": [
    {
      "cell_type": "markdown",
      "metadata": {
        "id": "nY8jI-E7e0Xg"
      },
      "source": [
        "# Q-learning\n",
        "\n",
        "$$ G_t = r_{t+1} + \\gamma \\max_{a}[Q(s_{t+1},a)] $$\n",
        "\n",
        "# SARSA(State-Action-Reward-State-Action)\n",
        "\n",
        "$$ G_t = r_{t+1} + \\gamma Q(s_{t+1},a_{t+1}) $$\n",
        "ただし、policy($=\\pi$) について $$ a_{t+1} = \\pi(s_{t+1}) $$\n",
        "\n",
        "# Actor-Critic\n",
        "\n",
        "> これまでの方法は未来でもらえる報酬を次のようにして獲得してきた。\n",
        "$$ G_t = r_{t+1} + \\gamma r_{t+2} + \\gamma^2 r_{t+2} + \\dots + \\gamma^{T-t-1} r_{T} $$\n",
        "しかし、Actor-Criticでは、Actorは報酬の予測はせず、報酬の評価はCriticに任せる"
      ]
    },
    {
      "cell_type": "code",
      "metadata": {
        "id": "6vBREFGZesXW"
      },
      "source": [
        "import gym\n",
        "import pandas as pd\n",
        "import numpy as np\n",
        "import matplotlib.pyplot as plt"
      ],
      "execution_count": null,
      "outputs": []
    },
    {
      "cell_type": "code",
      "metadata": {
        "id": "Y6M6AEyIo-tO"
      },
      "source": [
        "class Actor:\n",
        "    def __init__(self, env):\n",
        "        self.env = env\n",
        "        self.Q = {}\n",
        "        self.initialize()\n",
        "\n",
        "    def initialize(self):\n",
        "        for s in range(self.env.nS):\n",
        "            self.Q[s] = [0] * self.env.nA#すべての状態に対する報酬を0として初期化する\n",
        "        self.env.reset()\n",
        "\n",
        "    def policy(self, s, epsilon = 0.1):\n",
        "        if np.random.random() < epsilon:\n",
        "            return np.random.randint(self.env.nA)\n",
        "        else:\n",
        "            if sum(self.Q[s]) == 0:\n",
        "                return np.random.randint(self.env.nA)\n",
        "            else:\n",
        "                return np.argmax(self.Q[s])\n",
        "\n",
        "class Critic:\n",
        "    def __init__(self, env):\n",
        "        self.V = np.zeros(env.nS)\n",
        "\n",
        "class ActorCritic:\n",
        "    def __init__(self, env, actor_class, critic_class):\n",
        "        self.env = env\n",
        "        self.actor_class = actor_class\n",
        "        self.critic_class = critic_class\n",
        "        self.reward_log = []\n",
        "    \n",
        "    def learn(self, episode_count = 1000, gamma=0.9, alpha=0.8):\n",
        "        actor = self.actor_class(self.env)\n",
        "        critic = self.critic_class(self.env)\n",
        "\n",
        "        for e in range(episode_count):\n",
        "            env.reset()\n",
        "            done = False  \n",
        "            s = 0 \n",
        "            while not done:\n",
        "                a = actor.policy(s)\n",
        "                next_s, reward, done , _ = self.env.step(a)\n",
        "\n",
        "                G = reward + gamma * critic.V[next_s]\n",
        "                actor.Q[s][a] += alpha * (G - critic.V[s])\n",
        "                critic.V[s] += alpha * (G - critic.V[s])\n",
        "\n",
        "                s = next_s\n",
        "            else:\n",
        "                self.reward_log.append(reward)\n",
        "\n",
        "    def show_rewards(self, interval = 50):\n",
        "        average_rewards = {}\n",
        "        for e in range(0, len(self.reward_log), interval):\n",
        "            average_rewards[e] = np.mean(self.reward_log[e:e+50])\n",
        "        return pd.Series(average_rewards).plot()"
      ],
      "execution_count": null,
      "outputs": []
    },
    {
      "cell_type": "code",
      "metadata": {
        "id": "pgojVpB6jQ5d"
      },
      "source": [
        "env = gym.make('FrozenLake-v0',is_slippery=False)"
      ],
      "execution_count": null,
      "outputs": []
    },
    {
      "cell_type": "code",
      "metadata": {
        "colab": {
          "base_uri": "https://localhost:8080/",
          "height": 282
        },
        "id": "GWmELwO1jZEx",
        "outputId": "961684c5-a539-4c9a-a2a4-0e49bc7feb54"
      },
      "source": [
        "ac = ActorCritic(env, Actor, Critic)\n",
        "ac.learn()\n",
        "ac.show_rewards()"
      ],
      "execution_count": null,
      "outputs": [
        {
          "output_type": "execute_result",
          "data": {
            "text/plain": [
              "<matplotlib.axes._subplots.AxesSubplot at 0x7fa0848d2c50>"
            ]
          },
          "metadata": {},
          "execution_count": 10
        },
        {
          "output_type": "display_data",
          "data": {
            "image/png": "[encoded data removed]",
            "text/plain": [
              "<Figure size 432x288 with 1 Axes>"
            ]
          },
          "metadata": {
            "needs_background": "light"
          }
        }
      ]
    },
    {
      "cell_type": "code",
      "metadata": {
        "colab": {
          "base_uri": "https://localhost:8080/"
        },
        "id": "KF-yVrH0jhDX",
        "outputId": "34d5c505-d7b0-4818-9198-0fe12dd1c4de"
      },
      "source": [
        "env.reset()\n",
        "a = 1\n",
        "next_s, reward, done , _ = env.step(a)\n",
        "print(next_s)\n",
        "print(reward)"
      ],
      "execution_count": null,
      "outputs": [
        {
          "output_type": "stream",
          "name": "stdout",
          "text": [
            "4\n",
            "0.0\n"
          ]
        }
      ]
    },
    {
      "cell_type": "code",
      "metadata": {
        "id": "M5JgyZc2j2Sf"
      },
      "source": [
        ""
      ],
      "execution_count": null,
      "outputs": []
    }
  ]
}