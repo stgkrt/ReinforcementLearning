{
  "nbformat": 4,
  "nbformat_minor": 0,
  "metadata": {
    "colab": {
      "name": "RL_QLearning_SARSA.ipynb",
      "provenance": [],
      "authorship_tag": "ABX9TyPgAbEKV5O7kOXFB2ZI1VmC"
    },
    "kernelspec": {
      "name": "python3",
      "display_name": "Python 3"
    },
    "language_info": {
      "name": "python"
    }
  },
  "cells": [
    {
      "cell_type": "markdown",
      "metadata": {
        "id": "nY8jI-E7e0Xg"
      },
      "source": [
        "# Q-learning\n",
        "\n",
        "$$ G_t = r_{t+1} + \\gamma \\max_{a}[Q(s_{t+1},a)] $$\n",
        "\n",
        "# SARSA(State-Action-Reward-State-Action)\n",
        "\n",
        "$$ G_t = r_{t+1} + \\gamma Q(s_{t+1},a_{t+1}) $$\n",
        "ただし、policy($=\\pi$) について $$ a_{t+1} = \\pi(s_{t+1}) $$"
      ]
    },
    {
      "cell_type": "code",
      "metadata": {
        "id": "6vBREFGZesXW"
      },
      "source": [
        "import gym\n",
        "import pandas as pd\n",
        "import numpy as np\n",
        "import matplotlib.pyplot as plt"
      ],
      "execution_count": null,
      "outputs": []
    },
    {
      "cell_type": "code",
      "metadata": {
        "id": "brkYBxZmh5q5"
      },
      "source": [
        "class Agent:\n",
        "    def __init__(self, env):\n",
        "        self.env = env\n",
        "        self.Q = {}\n",
        "        self.initialize()\n",
        "        self.reward_log = []\n",
        "    \n",
        "    def initialize(self):\n",
        "        for s in range(self.env.nS):\n",
        "            self.Q[s] = [0] * self.env.nA#すべての状態に対する報酬を0として初期化する\n",
        "        self.env.reset()\n",
        "\n",
        "    def policy(self, s, epsilon = 0.1):\n",
        "        if np.random.random() < epsilon:\n",
        "            return np.random.randint(self.env.nA)\n",
        "        else:\n",
        "            if sum(self.Q[s]) == 0:\n",
        "                return np.random.randint(self.env.nA)\n",
        "            else:\n",
        "                return np.argmax(self.Q[s])\n",
        "\n",
        "    def montecarlo(self, episode_count=1000, gamma=0.9, alpha=0.8):\n",
        "        for e in range(episode_count):\n",
        "            env.reset()\n",
        "            done = False\n",
        "            experience_log = []   \n",
        "            s = 0 \n",
        "            while not done:\n",
        "                a = self.policy(s)\n",
        "                next_s, reward, done , _ = self.env.step(a)\n",
        "                experience_log.append({'state':s, 'action':a, 'reward':reward})\n",
        "                s = next_s\n",
        "            else:\n",
        "                self.reward_log.append(reward)\n",
        "            \n",
        "            for t , experience in enumerate(experience_log):\n",
        "                G = 0\n",
        "                i = 0\n",
        "                for j in range(t, len(experience_log)):\n",
        "                    G += (gamma**i)*experience_log[j]['reward']\n",
        "                    i += 1\n",
        "                s = experience['state']\n",
        "                a = experience['action']\n",
        "                self.Q[s][a] += alpha*(G - self.Q[s][a])\n",
        "        return self.reward_log\n",
        "    \n",
        "    def q_learning(self, episode_count=1000, gamma=0.9, alpha=0.8):\n",
        "        for e in range(episode_count):\n",
        "            env.reset()\n",
        "            done = False  \n",
        "            s = 0 \n",
        "            while not done:\n",
        "                a = self.policy(s)\n",
        "                next_s, reward, done , _ = self.env.step(a)\n",
        "                G = reward + gamma * max(self.Q[next_s])\n",
        "                self.Q[s][a] += alpha * (G - self.Q[s][a])\n",
        "\n",
        "                s = next_s\n",
        "            else:\n",
        "                self.reward_log.append(reward)\n",
        "\n",
        "    def SARSA(self, episode_count=1000, gamma=0.9, alpha=0.8):\n",
        "        for e in range(episode_count):\n",
        "            env.reset()\n",
        "            done = False  \n",
        "            s = 0 \n",
        "            a = self.policy(s)\n",
        "            while not done:\n",
        "                next_s, reward, done , _ = self.env.step(a)\n",
        "                next_a = self.policy(next_s)\n",
        "                G = reward + gamma * self.Q[next_s][next_a]\n",
        "                self.Q[s][a] += alpha * (G - self.Q[s][a])\n",
        "\n",
        "                s = next_s\n",
        "                a = next_a\n",
        "            else:\n",
        "                self.reward_log.append(reward)\n",
        "\n",
        "\n",
        "    def show_rewards(self, interval = 50):\n",
        "        average_rewards = {}\n",
        "        for e in range(0, len(self.reward_log), interval):\n",
        "            average_rewards[e] = np.mean(self.reward_log[e:e+50])\n",
        "        return pd.Series(average_rewards).plot()"
      ],
      "execution_count": null,
      "outputs": []
    },
    {
      "cell_type": "code",
      "metadata": {
        "id": "pgojVpB6jQ5d"
      },
      "source": [
        "env = gym.make('FrozenLake-v0',is_slippery=False)"
      ],
      "execution_count": null,
      "outputs": []
    },
    {
      "cell_type": "code",
      "metadata": {
        "colab": {
          "base_uri": "https://localhost:8080/"
        },
        "id": "58_xGjkPCsX1",
        "outputId": "3c2ff7e8-0363-4df0-8e91-f65e57754b3e"
      },
      "source": [
        "env.reset()\n",
        "env.step(1)"
      ],
      "execution_count": null,
      "outputs": [
        {
          "output_type": "execute_result",
          "data": {
            "text/plain": [
              "(4, 0.0, False, {'prob': 1.0})"
            ]
          },
          "metadata": {},
          "execution_count": 6
        }
      ]
    },
    {
      "cell_type": "code",
      "metadata": {
        "colab": {
          "base_uri": "https://localhost:8080/"
        },
        "id": "CZOVqMqXjYA_",
        "outputId": "a7cf9926-a1af-4611-b2fb-693d2e33da20"
      },
      "source": [
        "env.render()"
      ],
      "execution_count": null,
      "outputs": [
        {
          "output_type": "stream",
          "name": "stdout",
          "text": [
            "\n",
            "\u001b[41mS\u001b[0mFFF\n",
            "FHFH\n",
            "FFFH\n",
            "HFFG\n"
          ]
        }
      ]
    },
    {
      "cell_type": "code",
      "metadata": {
        "colab": {
          "base_uri": "https://localhost:8080/",
          "height": 285
        },
        "id": "GWmELwO1jZEx",
        "outputId": "4e9dc62b-ebbe-436a-f305-e0aa5eaf2ef3"
      },
      "source": [
        "agent = Agent(env)\n",
        "# agent.q_learning()\n",
        "# agent.show_rewards()\n",
        "agent.SARSA()\n",
        "agent.show_rewards()"
      ],
      "execution_count": null,
      "outputs": [
        {
          "output_type": "execute_result",
          "data": {
            "text/plain": [
              "<matplotlib.axes._subplots.AxesSubplot at 0x7f9f53cdca50>"
            ]
          },
          "metadata": {},
          "execution_count": 32
        },
        {
          "output_type": "display_data",
          "data": {
            "image/png": "[encoded data removed]",
            "text/plain": [
              "<Figure size 432x288 with 1 Axes>"
            ]
          },
          "metadata": {
            "needs_background": "light"
          }
        }
      ]
    },
    {
      "cell_type": "code",
      "metadata": {
        "colab": {
          "base_uri": "https://localhost:8080/"
        },
        "id": "KF-yVrH0jhDX",
        "outputId": "34d5c505-d7b0-4818-9198-0fe12dd1c4de"
      },
      "source": [
        "env.reset()\n",
        "a = 1\n",
        "next_s, reward, done , _ = env.step(a)\n",
        "print(next_s)\n",
        "print(reward)"
      ],
      "execution_count": null,
      "outputs": [
        {
          "output_type": "stream",
          "name": "stdout",
          "text": [
            "4\n",
            "0.0\n"
          ]
        }
      ]
    },
    {
      "cell_type": "code",
      "metadata": {
        "id": "M5JgyZc2j2Sf"
      },
      "source": [
        ""
      ],
      "execution_count": null,
      "outputs": []
    }
  ]
}